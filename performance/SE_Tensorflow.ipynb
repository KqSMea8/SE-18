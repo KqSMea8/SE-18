{
  "nbformat": 4,
  "nbformat_minor": 0,
  "metadata": {
    "colab": {
      "name": "SE - Tensorflow.ipynb",
      "version": "0.3.2",
      "provenance": [],
      "collapsed_sections": []
    },
    "kernelspec": {
      "name": "python3",
      "display_name": "Python 3"
    },
    "accelerator": "GPU"
  },
  "cells": [
    {
      "metadata": {
        "id": "BVQCOoIckTXJ",
        "colab_type": "code",
        "colab": {}
      },
      "cell_type": "code",
      "source": [
        "import tensorflow as tf\n",
        "tf.enable_eager_execution()\n",
        "import numpy as np\n",
        "import time\n",
        "import matplotlib.pyplot as plt\n",
        "%matplotlib inline"
      ],
      "execution_count": 0,
      "outputs": []
    },
    {
      "metadata": {
        "id": "RedKqJkhOlIC",
        "colab_type": "code",
        "colab": {}
      },
      "cell_type": "code",
      "source": [
        "keras = tf.keras"
      ],
      "execution_count": 0,
      "outputs": []
    },
    {
      "metadata": {
        "id": "HCJ2XGxhkQY3",
        "colab_type": "code",
        "outputId": "15c30e31-cfcc-46f2-fcb7-e2f2dc1337e1",
        "colab": {
          "base_uri": "https://localhost:8080/",
          "height": 34
        }
      },
      "cell_type": "code",
      "source": [
        "tf.__version__"
      ],
      "execution_count": 0,
      "outputs": [
        {
          "output_type": "execute_result",
          "data": {
            "text/plain": [
              "'1.12.0'"
            ]
          },
          "metadata": {
            "tags": []
          },
          "execution_count": 33
        }
      ]
    },
    {
      "metadata": {
        "id": "aph_9dJbkSWE",
        "colab_type": "code",
        "outputId": "e453962d-536d-4a82-efd5-0d8c9988d98b",
        "colab": {
          "base_uri": "https://localhost:8080/",
          "height": 51
        }
      },
      "cell_type": "code",
      "source": [
        "(X_train, Y_train), (X_test, Y_test) = keras.datasets.mnist.load_data()"
      ],
      "execution_count": 0,
      "outputs": [
        {
          "output_type": "stream",
          "text": [
            "Downloading data from https://storage.googleapis.com/tensorflow/tf-keras-datasets/mnist.npz\n",
            "11493376/11490434 [==============================] - 0s 0us/step\n"
          ],
          "name": "stdout"
        }
      ]
    },
    {
      "metadata": {
        "id": "ju6cF8hPPDkE",
        "colab_type": "code",
        "colab": {}
      },
      "cell_type": "code",
      "source": [
        "X_train = X_train[..., None]\n",
        "X_test = X_test[..., None]"
      ],
      "execution_count": 0,
      "outputs": []
    },
    {
      "metadata": {
        "id": "pDmwwTALlWpY",
        "colab_type": "code",
        "outputId": "8be1c34e-bd12-443c-ebd8-a3468e5c093c",
        "colab": {
          "base_uri": "https://localhost:8080/",
          "height": 34
        }
      },
      "cell_type": "code",
      "source": [
        "X_train.shape, Y_train.shape, X_test.shape, Y_test.shape"
      ],
      "execution_count": 0,
      "outputs": [
        {
          "output_type": "execute_result",
          "data": {
            "text/plain": [
              "((60000, 28, 28, 1), (60000,), (10000, 28, 28, 1), (10000,))"
            ]
          },
          "metadata": {
            "tags": []
          },
          "execution_count": 36
        }
      ]
    },
    {
      "metadata": {
        "id": "2lLkWTP_lydK",
        "colab_type": "code",
        "colab": {}
      },
      "cell_type": "code",
      "source": [
        "X_train = X_train.astype('float32')\n",
        "X_test = X_test.astype('float32')"
      ],
      "execution_count": 0,
      "outputs": []
    },
    {
      "metadata": {
        "id": "UVEKR2Fyl33z",
        "colab_type": "code",
        "colab": {}
      },
      "cell_type": "code",
      "source": [
        "X_train = X_train / 255\n",
        "X_test = X_test / 255"
      ],
      "execution_count": 0,
      "outputs": []
    },
    {
      "metadata": {
        "id": "1QzVRbtnom-m",
        "colab_type": "code",
        "outputId": "746cd09c-336a-4983-c6b0-929edc171fda",
        "colab": {
          "base_uri": "https://localhost:8080/",
          "height": 51
        }
      },
      "cell_type": "code",
      "source": [
        "number_of_classes = 10\n",
        "\n",
        "Y_train = keras.utils.to_categorical(Y_train, number_of_classes)\n",
        "Y_test = keras.utils.to_categorical(Y_test, number_of_classes)\n",
        "\n",
        "Y_train[0], Y_test[0]"
      ],
      "execution_count": 0,
      "outputs": [
        {
          "output_type": "execute_result",
          "data": {
            "text/plain": [
              "(array([0., 0., 0., 0., 0., 1., 0., 0., 0., 0.], dtype=float32),\n",
              " array([0., 0., 0., 0., 0., 0., 0., 1., 0., 0.], dtype=float32))"
            ]
          },
          "metadata": {
            "tags": []
          },
          "execution_count": 39
        }
      ]
    },
    {
      "metadata": {
        "id": "MwnrrqBc8f_C",
        "colab_type": "code",
        "colab": {}
      },
      "cell_type": "code",
      "source": [
        "class DenseModel(keras.Model):\n",
        "  def __init__(self):\n",
        "    super(DenseModel, self).__init__()\n",
        "    self.dense1 = keras.layers.Dense(128, activation='relu')\n",
        "    self.dense2 = keras.layers.Dense(10)\n",
        "    self.flatten = keras.layers.Flatten()\n",
        "    \n",
        "  @tf.contrib.eager.defun()\n",
        "  def call(self, x, training):\n",
        "    x = self.flatten(x)\n",
        "    \n",
        "    x = self.dense1(x)\n",
        "    x = self.dense2(x)\n",
        "    \n",
        "    return x"
      ],
      "execution_count": 0,
      "outputs": []
    },
    {
      "metadata": {
        "id": "m1K0Qja-8gJi",
        "colab_type": "code",
        "colab": {}
      },
      "cell_type": "code",
      "source": [
        ""
      ],
      "execution_count": 0,
      "outputs": []
    },
    {
      "metadata": {
        "id": "BBO8AIDyqn5Y",
        "colab_type": "code",
        "colab": {}
      },
      "cell_type": "code",
      "source": [
        "class ConvModel(keras.Model):\n",
        "  def __init__(self):\n",
        "    super(ConvModel, self).__init__()\n",
        "    self.conv1 = keras.layers.Conv2D(32, (3, 3), activation='relu')\n",
        "    self.conv2 = keras.layers.Conv2D(64, (3, 3), activation='relu')\n",
        "    self.maxpool = keras.layers.MaxPool2D()\n",
        "    self.dense1 = keras.layers.Dense(128, activation='relu')\n",
        "    self.dense2 = keras.layers.Dense(10)\n",
        "    self.flatten = keras.layers.Flatten()\n",
        "    \n",
        "  @tf.contrib.eager.defun()\n",
        "  def call(self, x):\n",
        "    x = self.conv1(x)\n",
        "    x = self.maxpool(x)\n",
        "    x = self.conv2(x)\n",
        "    x = self.maxpool(x)\n",
        "    \n",
        "    x = self.flatten(x)\n",
        "    \n",
        "    x = self.dense1(x)\n",
        "    x = self.dense2(x)\n",
        "    \n",
        "    return x"
      ],
      "execution_count": 0,
      "outputs": []
    },
    {
      "metadata": {
        "id": "YoxOomLLtOyI",
        "colab_type": "code",
        "colab": {}
      },
      "cell_type": "code",
      "source": [
        "model = ConvModel()"
      ],
      "execution_count": 0,
      "outputs": []
    },
    {
      "metadata": {
        "id": "1tqgzTi0PglE",
        "colab_type": "code",
        "colab": {}
      },
      "cell_type": "code",
      "source": [
        "BATCH_SIZE = 64"
      ],
      "execution_count": 0,
      "outputs": []
    },
    {
      "metadata": {
        "id": "ePqoraNRPgo3",
        "colab_type": "code",
        "colab": {}
      },
      "cell_type": "code",
      "source": [
        "train = tf.data.Dataset.from_tensor_slices((X_train, Y_train)).shuffle(len(X_train)).batch(BATCH_SIZE)"
      ],
      "execution_count": 0,
      "outputs": []
    },
    {
      "metadata": {
        "id": "x2S01Jno1usf",
        "colab_type": "code",
        "colab": {}
      },
      "cell_type": "code",
      "source": [
        "test = tf.data.Dataset.from_tensor_slices((X_test, Y_test)).batch(BATCH_SIZE)"
      ],
      "execution_count": 0,
      "outputs": []
    },
    {
      "metadata": {
        "id": "MN_8IhiO4e76",
        "colab_type": "text"
      },
      "cell_type": "markdown",
      "source": [
        "# Custom training loop"
      ]
    },
    {
      "metadata": {
        "id": "trNuAa-j4Y8I",
        "colab_type": "code",
        "colab": {}
      },
      "cell_type": "code",
      "source": [
        "optimizer = tf.train.AdamOptimizer(1e-3)"
      ],
      "execution_count": 0,
      "outputs": []
    },
    {
      "metadata": {
        "id": "9sZINhv04Zfh",
        "colab_type": "code",
        "colab": {}
      },
      "cell_type": "code",
      "source": [
        "def loss_function(y, pred):\n",
        "  return tf.losses.softmax_cross_entropy(y, pred)"
      ],
      "execution_count": 0,
      "outputs": []
    },
    {
      "metadata": {
        "id": "TZ8q9M3pWizp",
        "colab_type": "code",
        "outputId": "a5edf3db-6cd8-461a-d64f-e2670c1fcce2",
        "colab": {
          "base_uri": "https://localhost:8080/",
          "height": 85
        }
      },
      "cell_type": "code",
      "source": [
        "for epoch in range(2):\n",
        "  start = time.time()\n",
        "    \n",
        "  for (x, y) in train:\n",
        "    with tf.GradientTape() as tape:\n",
        "      # get the predictions\n",
        "      predictions = model(x)\n",
        "      # calculate the loss\n",
        "      loss = loss_function(y, predictions)\n",
        "      \n",
        "    # calculate the gradients of loss wrt input\n",
        "    gradients = tape.gradient(loss, model.variables)\n",
        "    # backpropagate and take the step in the direction of the gradient\n",
        "    optimizer.apply_gradients(zip(gradients, model.variables))\n",
        "  \n",
        "  print ('Training Set: Epoch {:04d}, Loss = {:.3f}'.format(epoch+1, loss))\n",
        "  print ('Time taken {}'.format(time.time() - start))\n",
        "  \n",
        "#   # Validation Step\n",
        "#   for xt, yt in test:\n",
        "#     preds_test = model(xt)\n",
        "\n",
        "#   print ('Validation Set: Loss = {:.3f}\\n'.format(loss))"
      ],
      "execution_count": 0,
      "outputs": [
        {
          "output_type": "stream",
          "text": [
            "Training Set: Epoch 0001, Loss = 0.020\n",
            "Time taken 17.43385624885559\n",
            "Training Set: Epoch 0002, Loss = 0.054\n",
            "Time taken 17.41017198562622\n"
          ],
          "name": "stdout"
        }
      ]
    },
    {
      "metadata": {
        "id": "di6Y8otIG3_g",
        "colab_type": "code",
        "colab": {}
      },
      "cell_type": "code",
      "source": [
        "s = time.time()\n",
        "c = 1\n",
        "for x, y in train:\n",
        "  print (y)\n",
        "print (time.time()-s)"
      ],
      "execution_count": 0,
      "outputs": []
    },
    {
      "metadata": {
        "id": "uRchtCSCzcY4",
        "colab_type": "code",
        "colab": {}
      },
      "cell_type": "code",
      "source": [
        ""
      ],
      "execution_count": 0,
      "outputs": []
    }
  ]
}